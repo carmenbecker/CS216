{
  "cells": [
    {
      "cell_type": "code",
      "execution_count": null,
      "metadata": {
        "id": "ZZ-YbLh7kL36",
        "outputId": "759d2727-8e77-41e8-da0e-ebcb4b9dfff1"
      },
      "outputs": [
        {
          "data": {
            "text/html": [
              "<div>\n",
              "<style scoped>\n",
              "    .dataframe tbody tr th:only-of-type {\n",
              "        vertical-align: middle;\n",
              "    }\n",
              "\n",
              "    .dataframe tbody tr th {\n",
              "        vertical-align: top;\n",
              "    }\n",
              "\n",
              "    .dataframe thead th {\n",
              "        text-align: right;\n",
              "    }\n",
              "</style>\n",
              "<table border=\"1\" class=\"dataframe\">\n",
              "  <thead>\n",
              "    <tr style=\"text-align: right;\">\n",
              "      <th></th>\n",
              "      <th>Unnamed: 0</th>\n",
              "      <th>name</th>\n",
              "      <th>gp</th>\n",
              "      <th>min</th>\n",
              "      <th>pts</th>\n",
              "      <th>fgm</th>\n",
              "      <th>fga</th>\n",
              "      <th>fg</th>\n",
              "      <th>3p_made</th>\n",
              "      <th>3pa</th>\n",
              "      <th>...</th>\n",
              "      <th>fta</th>\n",
              "      <th>ft</th>\n",
              "      <th>oreb</th>\n",
              "      <th>dreb</th>\n",
              "      <th>reb</th>\n",
              "      <th>ast</th>\n",
              "      <th>stl</th>\n",
              "      <th>blk</th>\n",
              "      <th>tov</th>\n",
              "      <th>target_5yrs</th>\n",
              "    </tr>\n",
              "  </thead>\n",
              "  <tbody>\n",
              "    <tr>\n",
              "      <th>0</th>\n",
              "      <td>0</td>\n",
              "      <td>Brandon Ingram</td>\n",
              "      <td>36</td>\n",
              "      <td>27.4</td>\n",
              "      <td>7.4</td>\n",
              "      <td>2.6</td>\n",
              "      <td>7.6</td>\n",
              "      <td>34.7</td>\n",
              "      <td>0.5</td>\n",
              "      <td>2.1</td>\n",
              "      <td>...</td>\n",
              "      <td>2.3</td>\n",
              "      <td>69.9</td>\n",
              "      <td>0.7</td>\n",
              "      <td>3.4</td>\n",
              "      <td>4.1</td>\n",
              "      <td>1.9</td>\n",
              "      <td>0.4</td>\n",
              "      <td>0.4</td>\n",
              "      <td>1.3</td>\n",
              "      <td>0</td>\n",
              "    </tr>\n",
              "    <tr>\n",
              "      <th>1</th>\n",
              "      <td>1</td>\n",
              "      <td>Andrew Harrison</td>\n",
              "      <td>35</td>\n",
              "      <td>26.9</td>\n",
              "      <td>7.2</td>\n",
              "      <td>2.0</td>\n",
              "      <td>6.7</td>\n",
              "      <td>29.6</td>\n",
              "      <td>0.7</td>\n",
              "      <td>2.8</td>\n",
              "      <td>...</td>\n",
              "      <td>3.4</td>\n",
              "      <td>76.5</td>\n",
              "      <td>0.5</td>\n",
              "      <td>2.0</td>\n",
              "      <td>2.4</td>\n",
              "      <td>3.7</td>\n",
              "      <td>1.1</td>\n",
              "      <td>0.5</td>\n",
              "      <td>1.6</td>\n",
              "      <td>0</td>\n",
              "    </tr>\n",
              "    <tr>\n",
              "      <th>2</th>\n",
              "      <td>2</td>\n",
              "      <td>JaKarr Sampson</td>\n",
              "      <td>74</td>\n",
              "      <td>15.3</td>\n",
              "      <td>5.2</td>\n",
              "      <td>2.0</td>\n",
              "      <td>4.7</td>\n",
              "      <td>42.2</td>\n",
              "      <td>0.4</td>\n",
              "      <td>1.7</td>\n",
              "      <td>...</td>\n",
              "      <td>1.3</td>\n",
              "      <td>67.0</td>\n",
              "      <td>0.5</td>\n",
              "      <td>1.7</td>\n",
              "      <td>2.2</td>\n",
              "      <td>1.0</td>\n",
              "      <td>0.5</td>\n",
              "      <td>0.3</td>\n",
              "      <td>1.0</td>\n",
              "      <td>0</td>\n",
              "    </tr>\n",
              "    <tr>\n",
              "      <th>3</th>\n",
              "      <td>3</td>\n",
              "      <td>Malik Sealy</td>\n",
              "      <td>58</td>\n",
              "      <td>11.6</td>\n",
              "      <td>5.7</td>\n",
              "      <td>2.3</td>\n",
              "      <td>5.5</td>\n",
              "      <td>42.6</td>\n",
              "      <td>0.1</td>\n",
              "      <td>0.5</td>\n",
              "      <td>...</td>\n",
              "      <td>1.3</td>\n",
              "      <td>68.9</td>\n",
              "      <td>1.0</td>\n",
              "      <td>0.9</td>\n",
              "      <td>1.9</td>\n",
              "      <td>0.8</td>\n",
              "      <td>0.6</td>\n",
              "      <td>0.1</td>\n",
              "      <td>1.0</td>\n",
              "      <td>1</td>\n",
              "    </tr>\n",
              "    <tr>\n",
              "      <th>4</th>\n",
              "      <td>4</td>\n",
              "      <td>Matt Geiger</td>\n",
              "      <td>48</td>\n",
              "      <td>11.5</td>\n",
              "      <td>4.5</td>\n",
              "      <td>1.6</td>\n",
              "      <td>3.0</td>\n",
              "      <td>52.4</td>\n",
              "      <td>0.0</td>\n",
              "      <td>0.1</td>\n",
              "      <td>...</td>\n",
              "      <td>1.9</td>\n",
              "      <td>67.4</td>\n",
              "      <td>1.0</td>\n",
              "      <td>1.5</td>\n",
              "      <td>2.5</td>\n",
              "      <td>0.3</td>\n",
              "      <td>0.3</td>\n",
              "      <td>0.4</td>\n",
              "      <td>0.8</td>\n",
              "      <td>1</td>\n",
              "    </tr>\n",
              "  </tbody>\n",
              "</table>\n",
              "<p>5 rows × 22 columns</p>\n",
              "</div>"
            ],
            "text/plain": [
              "   Unnamed: 0             name  gp   min  pts  fgm  fga    fg  3p_made  3pa  \\\n",
              "0           0   Brandon Ingram  36  27.4  7.4  2.6  7.6  34.7      0.5  2.1   \n",
              "1           1  Andrew Harrison  35  26.9  7.2  2.0  6.7  29.6      0.7  2.8   \n",
              "2           2   JaKarr Sampson  74  15.3  5.2  2.0  4.7  42.2      0.4  1.7   \n",
              "3           3      Malik Sealy  58  11.6  5.7  2.3  5.5  42.6      0.1  0.5   \n",
              "4           4      Matt Geiger  48  11.5  4.5  1.6  3.0  52.4      0.0  0.1   \n",
              "\n",
              "   ...  fta    ft  oreb  dreb  reb  ast  stl  blk  tov  target_5yrs  \n",
              "0  ...  2.3  69.9   0.7   3.4  4.1  1.9  0.4  0.4  1.3            0  \n",
              "1  ...  3.4  76.5   0.5   2.0  2.4  3.7  1.1  0.5  1.6            0  \n",
              "2  ...  1.3  67.0   0.5   1.7  2.2  1.0  0.5  0.3  1.0            0  \n",
              "3  ...  1.3  68.9   1.0   0.9  1.9  0.8  0.6  0.1  1.0            1  \n",
              "4  ...  1.9  67.4   1.0   1.5  2.5  0.3  0.3  0.4  0.8            1  \n",
              "\n",
              "[5 rows x 22 columns]"
            ]
          },
          "execution_count": 2,
          "metadata": {},
          "output_type": "execute_result"
        }
      ],
      "source": [
        "import pandas as pd\n",
        "import seaborn as sns\n",
        "import matplotlib.pyplot as plt\n",
        "from scipy.stats import iqr\n",
        "import numpy as np\n",
        "\n",
        "nba = pd.read_csv('nba-players.csv')\n",
        "nba.head()"
      ]
    },
    {
      "cell_type": "code",
      "execution_count": null,
      "metadata": {
        "id": "PO2zQS-JkL38",
        "outputId": "df82b5d9-606f-419e-a1c9-94a4d6729a57"
      },
      "outputs": [
        {
          "data": {
            "image/png": "[encoded data removed]",
            "text/plain": [
              "<Figure size 1000x600 with 1 Axes>"
            ]
          },
          "metadata": {},
          "output_type": "display_data"
        }
      ],
      "source": [
        "sns.set_theme(style=\"whitegrid\")\n",
        "\n",
        "# create histogram\n",
        "plt.figure(figsize=(10, 6))\n",
        "sns.histplot(nba['tov'], bins=30, kde=False, color=\"royalblue\", edgecolor=\"black\")\n",
        "\n",
        "plt.xlabel('Number of Turnovers Per Game')\n",
        "plt.ylabel('Count')\n",
        "plt.title('Distribution of Turnovers Per Game', fontsize=16)\n",
        "\n",
        "plt.show()"
      ]
    },
    {
      "cell_type": "code",
      "execution_count": null,
      "metadata": {
        "id": "lyloPz6CkL38",
        "outputId": "a60ec5e4-beff-4967-d44b-a35c3a0b64ff"
      },
      "outputs": [
        {
          "data": {
            "text/html": [
              "<div>\n",
              "<style scoped>\n",
              "    .dataframe tbody tr th:only-of-type {\n",
              "        vertical-align: middle;\n",
              "    }\n",
              "\n",
              "    .dataframe tbody tr th {\n",
              "        vertical-align: top;\n",
              "    }\n",
              "\n",
              "    .dataframe thead th {\n",
              "        text-align: right;\n",
              "    }\n",
              "</style>\n",
              "<table border=\"1\" class=\"dataframe\">\n",
              "  <thead>\n",
              "    <tr style=\"text-align: right;\">\n",
              "      <th></th>\n",
              "      <th>sd</th>\n",
              "      <th>mean</th>\n",
              "      <th>median</th>\n",
              "      <th>IQR</th>\n",
              "    </tr>\n",
              "  </thead>\n",
              "  <tbody>\n",
              "    <tr>\n",
              "      <th>0</th>\n",
              "      <td>0.722541</td>\n",
              "      <td>1.193582</td>\n",
              "      <td>1.0</td>\n",
              "      <td>0.8</td>\n",
              "    </tr>\n",
              "  </tbody>\n",
              "</table>\n",
              "</div>"
            ],
            "text/plain": [
              "         sd      mean  median  IQR\n",
              "0  0.722541  1.193582     1.0  0.8"
            ]
          },
          "execution_count": 4,
          "metadata": {},
          "output_type": "execute_result"
        }
      ],
      "source": [
        "tov_summary = {\n",
        "    'sd': np.std(nba['tov'], ddof=1),\n",
        "    'mean': np.mean(nba['tov']),\n",
        "    'median': np.median(nba['tov']),\n",
        "    'IQR': iqr(nba['tov'])\n",
        "}\n",
        "\n",
        "tov_summary_df = pd.DataFrame([tov_summary])\n",
        "tov_summary_df"
      ]
    },
    {
      "cell_type": "code",
      "execution_count": null,
      "metadata": {
        "id": "ycqOTdbnkL38",
        "outputId": "24e7a455-f717-479f-af81-303535349689"
      },
      "outputs": [
        {
          "name": "stderr",
          "output_type": "stream",
          "text": [
            "/var/folders/q4/32r27trx07v3k_qrm_0gp5700000gn/T/ipykernel_42078/3290245524.py:3: SettingWithCopyWarning: \n",
            "A value is trying to be set on a copy of a slice from a DataFrame.\n",
            "Try using .loc[row_indexer,col_indexer] = value instead\n",
            "\n",
            "See the caveats in the documentation: https://pandas.pydata.org/pandas-docs/stable/user_guide/indexing.html#returning-a-view-versus-a-copy\n",
            "  nba_filtered['above_avr_tov'] = (nba_filtered['tov'] > avr_turnover).astype(int)\n",
            "/var/folders/q4/32r27trx07v3k_qrm_0gp5700000gn/T/ipykernel_42078/3290245524.py:4: SettingWithCopyWarning: \n",
            "A value is trying to be set on a copy of a slice from a DataFrame.\n",
            "Try using .loc[row_indexer,col_indexer] = value instead\n",
            "\n",
            "See the caveats in the documentation: https://pandas.pydata.org/pandas-docs/stable/user_guide/indexing.html#returning-a-view-versus-a-copy\n",
            "  nba_filtered['above_avr_tov'] = nba_filtered['above_avr_tov'].astype('category')\n"
          ]
        },
        {
          "data": {
            "image/png": "[encoded data removed]",
            "text/plain": [
              "<Figure size 1000x600 with 1 Axes>"
            ]
          },
          "metadata": {},
          "output_type": "display_data"
        }
      ],
      "source": [
        "nba_filtered = nba[nba['min'] > 10]\n",
        "avr_turnover = nba_filtered['tov'].mean()\n",
        "nba_filtered['above_avr_tov'] = (nba_filtered['tov'] > avr_turnover).astype(int)\n",
        "nba_filtered['above_avr_tov'] = nba_filtered['above_avr_tov'].astype('category')\n",
        "\n",
        "sns.set_theme(style=\"whitegrid\")\n",
        "\n",
        "plt.figure(figsize=(10, 6))\n",
        "sns.histplot(nba['tov'], bins=30, kde=False, color=\"royalblue\", edgecolor=\"black\")\n",
        "\n",
        "plt.xlabel('Number of Turnovers Per Game')\n",
        "plt.ylabel('Count')\n",
        "plt.title('Distribution of Turnovers Per Game For Players Over 10 min', fontsize=16)\n",
        "\n",
        "sns.set(style=\"white\", context=\"talk\")\n",
        "\n",
        "\n",
        "plt.show()"
      ]
    },
    {
      "cell_type": "code",
      "execution_count": null,
      "metadata": {
        "id": "39dMHC-LkL39",
        "outputId": "41a9389b-0b62-44cb-ac66-dc5c9d9c82af"
      },
      "outputs": [
        {
          "data": {
            "text/html": [
              "<div>\n",
              "<style scoped>\n",
              "    .dataframe tbody tr th:only-of-type {\n",
              "        vertical-align: middle;\n",
              "    }\n",
              "\n",
              "    .dataframe tbody tr th {\n",
              "        vertical-align: top;\n",
              "    }\n",
              "\n",
              "    .dataframe thead th {\n",
              "        text-align: right;\n",
              "    }\n",
              "</style>\n",
              "<table border=\"1\" class=\"dataframe\">\n",
              "  <thead>\n",
              "    <tr style=\"text-align: right;\">\n",
              "      <th></th>\n",
              "      <th>sd</th>\n",
              "      <th>mean</th>\n",
              "      <th>median</th>\n",
              "      <th>IQR</th>\n",
              "    </tr>\n",
              "  </thead>\n",
              "  <tbody>\n",
              "    <tr>\n",
              "      <th>0</th>\n",
              "      <td>0.722541</td>\n",
              "      <td>1.193582</td>\n",
              "      <td>1.0</td>\n",
              "      <td>0.8</td>\n",
              "    </tr>\n",
              "  </tbody>\n",
              "</table>\n",
              "</div>"
            ],
            "text/plain": [
              "         sd      mean  median  IQR\n",
              "0  0.722541  1.193582     1.0  0.8"
            ]
          },
          "execution_count": 6,
          "metadata": {},
          "output_type": "execute_result"
        }
      ],
      "source": [
        "tov_data = nba[['tov']]\n",
        "\n",
        "summary = {\n",
        "    'sd': np.std(tov_data['tov'], ddof=1),\n",
        "    'mean': np.mean(tov_data['tov']),\n",
        "    'median': np.median(tov_data['tov']),\n",
        "    'IQR': iqr(tov_data['tov'])\n",
        "}\n",
        "\n",
        "tov_summary_df = pd.DataFrame([summary])\n",
        "tov_summary_df"
      ]
    },
    {
      "cell_type": "code",
      "execution_count": null,
      "metadata": {
        "id": "GPDRUHLrkL39",
        "outputId": "3de78dc9-4070-410a-c053-69e0adf9e602"
      },
      "outputs": [
        {
          "name": "stdout",
          "output_type": "stream",
          "text": [
            "above_avr_tov\n",
            "0    645\n",
            "1    425\n",
            "Name: count, dtype: int64\n"
          ]
        }
      ],
      "source": [
        "count_above_avr_tov = nba_filtered['above_avr_tov'].value_counts()\n",
        "print(count_above_avr_tov)"
      ]
    },
    {
      "cell_type": "code",
      "execution_count": null,
      "metadata": {
        "id": "7p6JYnNLkL39",
        "outputId": "aaa57142-3019-4bea-e9f5-8ebade674113"
      },
      "outputs": [
        {
          "name": "stdout",
          "output_type": "stream",
          "text": [
            "0.602803738317757\n",
            "0.397196261682243\n"
          ]
        }
      ],
      "source": [
        "below = 645\n",
        "above = 425\n",
        "\n",
        "#Prob of below\n",
        "prob_below = below/(below+above)\n",
        "print(prob_below)\n",
        "\n",
        "#Prob of above\n",
        "prob_above = above/(above+below)\n",
        "print(prob_above)"
      ]
    },
    {
      "cell_type": "code",
      "execution_count": null,
      "metadata": {
        "id": "JyRdkP-vkL39",
        "outputId": "7225d87b-fb81-479c-b05d-681733664c26"
      },
      "outputs": [
        {
          "data": {
            "image/png": "[encoded data removed]",
            "text/plain": [
              "<Figure size 1600x600 with 2 Axes>"
            ]
          },
          "metadata": {},
          "output_type": "display_data"
        }
      ],
      "source": [
        "sns.set_theme(style=\"whitegrid\")\n",
        "\n",
        "fig, axes = plt.subplots(1, 2, figsize=(16, 6))\n",
        "\n",
        "sns.boxplot(x=\"min\", y=\"above_avr_tov\", data=nba_filtered, ax=axes[0], palette=[\"lightgreen\"])\n",
        "axes[0].set_title('Mins vs. Turnovers')\n",
        "axes[0].set_xlabel('Average # of Minutes')\n",
        "axes[0].set_ylabel('Above or below average # turnovers')\n",
        "axes[0].set_xlim(0, 40)\n",
        "axes[0].set_xticks(range(0, 41, 10))\n",
        "\n",
        "sns.boxplot(x=\"pts\", y=\"above_avr_tov\", data=nba_filtered, ax=axes[1], palette=[\"lightblue\"])\n",
        "axes[1].set_title('Points vs. Turnovers')\n",
        "axes[1].set_xlabel('Average # of Points')\n",
        "axes[1].set_ylabel('Above or below average # turnovers')\n",
        "axes[1].set_xlim(0, 40)\n",
        "axes[1].set_xticks(range(0, 41, 10))\n",
        "\n",
        "plt.tight_layout()\n",
        "plt.show()"
      ]
    },
    {
      "cell_type": "code",
      "execution_count": null,
      "metadata": {
        "id": "tGKzEo85kL39",
        "outputId": "78ad933e-ba00-478f-de67-3e288c37ed19"
      },
      "outputs": [
        {
          "name": "stdout",
          "output_type": "stream",
          "text": [
            "Mean Squared Error: 0.11723170704018673\n",
            "R^2 Score: 0.7752783711541398\n"
          ]
        }
      ],
      "source": [
        "from sklearn.metrics import accuracy_score, confusion_matrix\n",
        "import matplotlib.pyplot as plt\n",
        "import seaborn as sns\n",
        "from sklearn.linear_model import LinearRegression\n",
        "from sklearn.metrics import mean_squared_error\n",
        "from sklearn.metrics import r2_score\n",
        "\n",
        "#Model 1 --> all features included\n",
        "X = nba[['pts', 'reb', 'stl', 'target_5yrs']].values\n",
        "y = nba['tov'].values\n",
        "\n",
        "linear_model = LinearRegression()\n",
        "linear_model.fit(X, y)\n",
        "\n",
        "predicted = linear_model.predict(X)\n",
        "\n",
        "mse = mean_squared_error(y_true=y, y_pred=predicted)\n",
        "r_squared = r2_score(y_true=y, y_pred=predicted)\n",
        "\n",
        "print(\"Mean Squared Error:\", mse)\n",
        "print(\"R^2 Score:\", r_squared)"
      ]
    },
    {
      "cell_type": "code",
      "execution_count": null,
      "metadata": {
        "id": "A6PiHJdBkL3-",
        "outputId": "850de4f2-7d01-4499-bad4-74c5d9be27ba"
      },
      "outputs": [
        {
          "name": "stdout",
          "output_type": "stream",
          "text": [
            "Mean Squared Error: 0.14293033516626064\n",
            "R^2 Score: 0.7260166337163689\n"
          ]
        }
      ],
      "source": [
        "#Model 2 -->  took out stl\n",
        "X = nba[['pts', 'reb', 'target_5yrs']].values\n",
        "y = nba['tov'].values\n",
        "\n",
        "linear_model = LinearRegression()\n",
        "linear_model.fit(X, y)\n",
        "\n",
        "predicted = linear_model.predict(X)\n",
        "\n",
        "mse = mean_squared_error(y_true=y, y_pred=predicted)\n",
        "r_squared = r2_score(y_true=y, y_pred=predicted)\n",
        "\n",
        "print(\"Mean Squared Error:\", mse)\n",
        "print(\"R^2 Score:\", r_squared)"
      ]
    },
    {
      "cell_type": "code",
      "execution_count": null,
      "metadata": {
        "id": "-PunKFE2kL3-",
        "outputId": "fa26c0db-d294-498a-f858-c0f44a3ff2da"
      },
      "outputs": [
        {
          "name": "stdout",
          "output_type": "stream",
          "text": [
            "Mean Squared Error: 0.19423888652028154\n",
            "R^2 Score: 0.6276631973883919\n"
          ]
        }
      ],
      "source": [
        "#Model 3 --> we took away pts\n",
        "\n",
        "X = nba[['reb', 'stl', 'target_5yrs']].values\n",
        "y = nba['tov'].values\n",
        "\n",
        "linear_model = LinearRegression()\n",
        "linear_model.fit(X, y)\n",
        "\n",
        "predicted = linear_model.predict(X)\n",
        "\n",
        "mse = mean_squared_error(y_true=y, y_pred=predicted)\n",
        "r_squared = r2_score(y_true=y, y_pred=predicted)\n",
        "\n",
        "print(\"Mean Squared Error:\", mse)\n",
        "print(\"R^2 Score:\", r_squared)"
      ]
    },
    {
      "cell_type": "code",
      "execution_count": null,
      "metadata": {
        "id": "6BPg-UCJkL3-",
        "outputId": "a6f6b4cc-5f8a-468c-8222-df4fcd188954"
      },
      "outputs": [
        {
          "name": "stdout",
          "output_type": "stream",
          "text": [
            "Mean Squared Error: 0.1174652926609986\n",
            "R^2 Score: 0.7748306105396345\n"
          ]
        }
      ],
      "source": [
        "#Model 4 --> took out reb\n",
        "X = nba[['pts', 'stl', 'target_5yrs']].values\n",
        "y = nba['tov'].values\n",
        "\n",
        "linear_model = LinearRegression()\n",
        "linear_model.fit(X, y)\n",
        "\n",
        "predicted = linear_model.predict(X)\n",
        "\n",
        "mse = mean_squared_error(y_true=y, y_pred=predicted)\n",
        "r_squared = r2_score(y_true=y, y_pred=predicted)\n",
        "\n",
        "print(\"Mean Squared Error:\", mse)\n",
        "print(\"R^2 Score:\", r_squared)"
      ]
    },
    {
      "cell_type": "code",
      "execution_count": null,
      "metadata": {
        "id": "75DMKQQHkL3_",
        "outputId": "9dabeb53-4d3e-4f5f-fe18-2bd4792b5987"
      },
      "outputs": [
        {
          "name": "stdout",
          "output_type": "stream",
          "text": [
            "Mean Squared Error: 0.11723247126143006\n",
            "R^2 Score: 0.7752769062173327\n"
          ]
        }
      ],
      "source": [
        "#Model 5 --> took out target 5 yrs\n",
        "X = nba[['pts', 'reb', 'stl']].values\n",
        "y = nba['tov'].values\n",
        "\n",
        "linear_model = LinearRegression()\n",
        "linear_model.fit(X, y)\n",
        "\n",
        "predicted = linear_model.predict(X)\n",
        "\n",
        "mse = mean_squared_error(y_true=y, y_pred=predicted)\n",
        "r_squared = r2_score(y_true=y, y_pred=predicted)\n",
        "\n",
        "print(\"Mean Squared Error:\", mse)\n",
        "print(\"R^2 Score:\", r_squared)"
      ]
    },
    {
      "cell_type": "code",
      "execution_count": null,
      "metadata": {
        "id": "NWLa6PRNkL3_",
        "outputId": "f6527557-1add-43c0-ef62-41a3413b3e8e"
      },
      "outputs": [
        {
          "name": "stdout",
          "output_type": "stream",
          "text": [
            "Mean Squared Error: 0.11746645062976784\n",
            "R^2 Score: 0.7748283908276253\n"
          ]
        }
      ],
      "source": [
        "# final model with best variables\n",
        "X = nba[['pts', 'stl']].values\n",
        "y = nba['tov'].values\n",
        "\n",
        "linear_model = LinearRegression()\n",
        "linear_model.fit(X, y)\n",
        "\n",
        "predicted = linear_model.predict(X)\n",
        "\n",
        "mse = mean_squared_error(y_true=y, y_pred=predicted)\n",
        "r_squared = r2_score(y_true=y, y_pred=predicted)\n",
        "\n",
        "print(\"Mean Squared Error:\", mse)\n",
        "print(\"R^2 Score:\", r_squared)"
      ]
    }
  ],
  "metadata": {
    "kernelspec": {
      "display_name": "Python 3 (ipykernel)",
      "language": "python",
      "name": "python3"
    },
    "language_info": {
      "codemirror_mode": {
        "name": "ipython",
        "version": 3
      },
      "file_extension": ".py",
      "mimetype": "text/x-python",
      "name": "python",
      "nbconvert_exporter": "python",
      "pygments_lexer": "ipython3",
      "version": "3.11.5"
    },
    "otter": {
      "OK_FORMAT": true,
      "tests": {
        "q1": {
          "name": "q1",
          "points": [
            2,
            2,
            2,
            2
          ],
          "suites": [
            {
              "cases": [
                {
                  "code": ">>> round(q1_1, 5) == 0.25\nTrue",
                  "hidden": false,
                  "locked": false
                },
                {
                  "code": ">>> round(q1_2, 5) == 0.5\nTrue",
                  "hidden": false,
                  "locked": false
                },
                {
                  "code": ">>> round(q1_3, 5) == 0.5\nTrue",
                  "hidden": false,
                  "locked": false
                },
                {
                  "code": ">>> round(q1_4, 2) == 0.83\nTrue",
                  "hidden": false,
                  "locked": false
                }
              ],
              "scored": true,
              "setup": "",
              "teardown": "",
              "type": "doctest"
            }
          ]
        },
        "q2": {
          "name": "q2",
          "points": [
            2,
            2,
            2,
            2
          ],
          "suites": [
            {
              "cases": [
                {
                  "code": ">>> round(q2_1, 5) == 0.084\nTrue",
                  "hidden": false,
                  "locked": false
                },
                {
                  "code": ">>> round(q2_2, 5) == 0.916\nTrue",
                  "hidden": false,
                  "locked": false
                },
                {
                  "code": ">>> round(q2_3, 5) == 0.08\nTrue",
                  "hidden": false,
                  "locked": false
                },
                {
                  "code": ">>> round(q2_4, 5) == 0.226\nTrue",
                  "hidden": false,
                  "locked": false
                }
              ],
              "scored": true,
              "setup": "",
              "teardown": "",
              "type": "doctest"
            }
          ]
        },
        "q3": {
          "name": "q3",
          "points": [
            2,
            2,
            2
          ],
          "suites": [
            {
              "cases": [
                {
                  "code": ">>> round(q3_1, 5) == 0.025\nTrue",
                  "hidden": false,
                  "locked": false
                },
                {
                  "code": ">>> round(q3_2, 5) == 0.1085\nTrue",
                  "hidden": false,
                  "locked": false
                },
                {
                  "code": ">>> round(q3_3, 5) == 0.08756\nTrue",
                  "hidden": false,
                  "locked": false
                }
              ],
              "scored": true,
              "setup": "",
              "teardown": "",
              "type": "doctest"
            }
          ]
        },
        "q4": {
          "name": "q4",
          "points": [
            2,
            2
          ],
          "suites": [
            {
              "cases": [
                {
                  "code": ">>> round(q4_1, 5) == 1.7\nTrue",
                  "hidden": false,
                  "locked": false
                },
                {
                  "code": ">>> round(q4_2, 5) == 81.25\nTrue",
                  "hidden": false,
                  "locked": false
                }
              ],
              "scored": true,
              "setup": "",
              "teardown": "",
              "type": "doctest"
            }
          ]
        },
        "q5": {
          "name": "q5",
          "points": [
            2,
            2
          ],
          "suites": [
            {
              "cases": [
                {
                  "code": ">>> q5_1 == 5\nTrue",
                  "hidden": false,
                  "locked": false
                },
                {
                  "code": ">>> round(q5_2, 5) == 0.085\nTrue",
                  "hidden": false,
                  "locked": false
                }
              ],
              "scored": true,
              "setup": "",
              "teardown": "",
              "type": "doctest"
            }
          ]
        },
        "q6": {
          "name": "q6",
          "points": [
            2,
            2,
            2
          ],
          "suites": [
            {
              "cases": [
                {
                  "code": ">>> round(q6_1, 5) == 0.3\nTrue",
                  "hidden": false,
                  "locked": false
                },
                {
                  "code": ">>> round(q6_2, 5) == 0.02041\nTrue",
                  "hidden": false,
                  "locked": false
                },
                {
                  "code": ">>> q6_3 in range(36100, 40805)\nTrue",
                  "hidden": false,
                  "locked": false
                }
              ],
              "scored": true,
              "setup": "",
              "teardown": "",
              "type": "doctest"
            }
          ]
        },
        "q7": {
          "name": "q7",
          "points": [
            2,
            2,
            2
          ],
          "suites": [
            {
              "cases": [
                {
                  "code": ">>> 0.62 <= q7_1 <= 0.64\nTrue",
                  "hidden": false,
                  "locked": false
                },
                {
                  "code": ">>> 129 <= q7_2 <= 131\nTrue",
                  "hidden": false,
                  "locked": false
                },
                {
                  "code": ">>> 0.04 <= q7_3 <= 0.06\nTrue",
                  "hidden": false,
                  "locked": false
                }
              ],
              "scored": true,
              "setup": "",
              "teardown": "",
              "type": "doctest"
            }
          ]
        }
      }
    },
    "colab": {
      "provenance": []
    }
  },
  "nbformat": 4,
  "nbformat_minor": 0
}